{
 "cells": [
  {
   "cell_type": "code",
   "execution_count": 2,
   "metadata": {},
   "outputs": [],
   "source": [
    "#from sklearn.metrics import confusion_matrix\n",
    "from PIL import Image\n",
    "import numpy as np\n",
    "import pandas as pd\n",
    "import os\n",
    "import matplotlib.pyplot as plt\n",
    "from sklearn.metrics import confusion_matrix, ConfusionMatrixDisplay,precision_score,recall_score,f1_score,accuracy_score, cohen_kappa_score\n",
    "import seaborn as sns\n"
   ]
  },
  {
   "cell_type": "code",
   "execution_count": 3,
   "metadata": {},
   "outputs": [],
   "source": [
    "# Reclassify the pixels into a single indicator:\n",
    "px_dict = {190:'s',\n",
    "           357:'z',\n",
    "           295:'g',\n",
    "           408:'w',\n",
    "           0:'e',\n",
    "           306:'o'}\n",
    "def reclass(pixel, px_dict = px_dict):\n",
    "    px = pixel.sum() # Convert into numerical value for ease of use.\n",
    "    return px_dict[px]"
   ]
  },
  {
   "cell_type": "code",
   "execution_count": 4,
   "metadata": {},
   "outputs": [],
   "source": [
    "# Concatenate images per dataset.\n",
    "def concatenate_images(filenames,dir):\n",
    "   images = []\n",
    "   for file in filenames:\n",
    "      images.append(np.reshape(np.array(Image.open(dir+file)),[500**2,3]))\n",
    "   concatenated = np.concatenate(images,axis=0)\n",
    "   reclassified = np.apply_along_axis(reclass,axis = 1,arr=concatenated)\n",
    "   return reclassified"
   ]
  },
  {
   "attachments": {},
   "cell_type": "markdown",
   "metadata": {},
   "source": [
    "Actual script starts here."
   ]
  },
  {
   "cell_type": "code",
   "execution_count": 5,
   "metadata": {},
   "outputs": [
    {
     "data": {
      "text/plain": [
       "0.8406811559319513"
      ]
     },
     "execution_count": 5,
     "metadata": {},
     "output_type": "execute_result"
    }
   ],
   "source": [
    "mu_dir = './mu_annotations/'\n",
    "to_dir = './to_annotations/'\n",
    "mu_ann = [x for x in os.listdir(mu_dir) if x[-3:]=='png']\n",
    "to_ann = [x for x in os.listdir(to_dir) if x[-3:]=='png']\n",
    "mu_ann.sort()\n",
    "to_ann.sort()\n",
    "\n",
    "# Combined lists of reclassified and concatenated images.\n",
    "mu_combined = concatenate_images(mu_ann,mu_dir)\n",
    "to_combined = concatenate_images(to_ann,to_dir)\n",
    "\n",
    "cohen_kappa_score(mu_combined,to_combined, labels=list(np.unique(mu_combined)))"
   ]
  },
  {
   "cell_type": "code",
   "execution_count": null,
   "metadata": {},
   "outputs": [],
   "source": [
    "mu_dir = './prelim_sample/new_mu/'\n",
    "to_dir = './prelim_sample/new_tino/'\n",
    "mu_ann = [x for x in os.listdir(mu_dir) if x[-3:]=='png']\n",
    "to_ann = [x for x in os.listdir(to_dir) if x[-3:]=='png']\n",
    "mu_ann.sort()\n",
    "to_ann.sort()\n",
    "\n",
    "# Combined lists of reclassified and concatenated images.\n",
    "mu_combined = concatenate_images(mu_ann,mu_dir)\n",
    "to_combined = concatenate_images(to_ann,to_dir)\n",
    "\n",
    "ConfusionMatrixDisplay.from_predictions(mu_combined,\n",
    "                                        to_combined,\n",
    "                                        normalize='pred',\n",
    "                                        values_format='.2f',\n",
    "                                        labels = ['o','w','g','z','s'],#leave out 'e' as this relates to errors/non-predictions\n",
    "                                        display_labels=['Other','White','Grey','Sand','Shrubs'])"
   ]
  },
  {
   "cell_type": "code",
   "execution_count": null,
   "metadata": {},
   "outputs": [],
   "source": [
    "mu_dir = '../new_mu/'\n",
    "to_dir = '../new_tino/'\n",
    "mu_ann = [x for x in os.listdir(mu_dir) if x[-3:]=='png']\n",
    "to_ann = [x for x in os.listdir(to_dir) if x[-3:]=='png']\n",
    "mu_ann.sort()\n",
    "to_ann.sort()\n",
    "\n",
    "# Combined lists of reclassified and concatenated images.\n",
    "mu_combined = concatenate_images(mu_ann,mu_dir)\n",
    "to_combined = concatenate_images(to_ann,to_dir)\n",
    "\n",
    "cohen_kappa_score(mu_combined,to_combined, labels=list(np.unique(mu_combined)))"
   ]
  }
 ],
 "metadata": {
  "kernelspec": {
   "display_name": "ssml",
   "language": "python",
   "name": "python3"
  },
  "language_info": {
   "codemirror_mode": {
    "name": "ipython",
    "version": 3
   },
   "file_extension": ".py",
   "mimetype": "text/x-python",
   "name": "python",
   "nbconvert_exporter": "python",
   "pygments_lexer": "ipython3",
   "version": "3.10.10"
  },
  "orig_nbformat": 4
 },
 "nbformat": 4,
 "nbformat_minor": 2
}
