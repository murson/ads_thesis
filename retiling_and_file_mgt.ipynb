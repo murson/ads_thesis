{
 "cells": [
  {
   "cell_type": "code",
   "execution_count": 1,
   "metadata": {},
   "outputs": [],
   "source": [
    "from osgeo_utils import gdal_retile\n",
    "from osgeo import gdal\n",
    "from osgeo import ogr\n",
    "import os\n",
    "\n",
    "from PIL import Image\n"
   ]
  },
  {
   "cell_type": "code",
   "execution_count": 8,
   "metadata": {},
   "outputs": [],
   "source": [
    "# Retiles source images to a given size.\n",
    "def retile_img(source, size, target_dir):\n",
    "    os.mkdir(target_dir)\n",
    "    os.mkdir(target_dir+'/tif')\n",
    "    os.mkdir(target_dir+'/jpg')\n",
    "\n",
    "    target_jpg = target_dir + '/jpg'\n",
    "    target_tif = target_dir + '/tif'\n",
    "    \n",
    "    script_jpg = f'python /Users/michaelurson/miniconda3/pkgs/gdal-3.6.3-py310h0b34360_1/bin/gdal_retile.py -ps {size} {size} -targetDir {target_jpg} -of JPEG -co \"QUALITY=95\" {source}'\n",
    "    \n",
    "    script_tif = f'python /Users/michaelurson/miniconda3/pkgs/gdal-3.6.3-py310h0b34360_1/bin/gdal_retile.py -ps {size} {size} -targetDir {target_tif} -of GTiff {source}'\n",
    "    \n",
    "    print('creating jpg')\n",
    "    os.system(script_jpg)\n",
    "    print('jpg done')\n",
    "    print('creating tif')\n",
    "    os.system(script_tif)\n",
    "    print('tif done')"
   ]
  },
  {
   "cell_type": "code",
   "execution_count": 9,
   "metadata": {},
   "outputs": [
    {
     "name": "stdout",
     "output_type": "stream",
     "text": [
      "creating jpg\n",
      "0...10...20...30...40...50...60...70...80...90...100 - done.\n",
      "jpg done\n",
      "creating tif\n",
      "0...10...20...30...40...50...60...70...80...90...100 - done.\n",
      "tif done\n"
     ]
    }
   ],
   "source": [
    "test_img = './spring_vs_autumn/20180419_005.tif'\n",
    "retile_img(test_img, 500, './spring_vs_autumn/spring_2018_new')"
   ]
  },
  {
   "cell_type": "code",
   "execution_count": 1,
   "metadata": {},
   "outputs": [],
   "source": [
    "# Remove images that are only white.\n",
    "def remove_whites(filename):\n",
    "    a = Image.open(filename).convert('L').getcolors()\n",
    "    if len(a) == 1:\n",
    "        os.remove(filename)"
   ]
  },
  {
   "cell_type": "code",
   "execution_count": null,
   "metadata": {},
   "outputs": [],
   "source": [
    "# Retiles image and then removes tiles that are only white.\n",
    "\n",
    "test_img = './spring_vs_autumn/20220302_005.tif'\n",
    "new_path = './spring_vs_autumn/to_predict/spring_2022_new'\n",
    "retile_img(test_img, 500, new_path)\n",
    "\n",
    "p = './spring_vs_autumn/to_predict/spring_2022_new/jpg/'\n",
    "\n",
    "jpg_list = [x for x in os.listdir(p) if x[-3:] == 'jpg']\n",
    "\n",
    "[remove_whites(p+x) for x in jpg_list]\n",
    "\n",
    "[os.remove(p+x) for x in os.listdir(p) if x[-3:]!='jpg']"
   ]
  },
  {
   "cell_type": "code",
   "execution_count": null,
   "metadata": {},
   "outputs": [],
   "source": [
    "# Selection of tifs based on JPG selection:\n",
    "# This is useful if a sample has been selected based on one file type, and then the corresponding files having a different type are required.\n",
    "import shutil\n",
    "\n",
    "def copy_files(desired_extension, source_orig, source_desired):\n",
    "\n",
    "    if desired_extension.lower() == 'jpg':\n",
    "        ext_new = 'jpg'\n",
    "        ext_existing = 'tif'\n",
    "    else:\n",
    "        ext_new = 'tif'\n",
    "        ext_existing = 'jpg'\n",
    "    \n",
    "    # Create new directory\n",
    "    try:\n",
    "        os.mkdir(source_orig+ext_new)\n",
    "    except FileExistsError:\n",
    "        print('folder exists')\n",
    "        pass\n",
    "\n",
    "    # Create list of original files\n",
    "    org_files = []\n",
    "    for file in os.listdir(source_orig):\n",
    "        if file[-3:] == ext_existing:\n",
    "            org_files.append(file)\n",
    "    \n",
    "    for file in org_files:\n",
    "        print(source_desired+file[0:-3]+ext_new, source_orig+ext_new)\n",
    "        try:\n",
    "            shutil.copy(source_desired+file[0:-3]+ext_new, source_orig+ext_new)\n",
    "        except FileNotFoundError:\n",
    "            print(f'file {file} not found')\n",
    "            pass"
   ]
  },
  {
   "cell_type": "code",
   "execution_count": null,
   "metadata": {},
   "outputs": [],
   "source": [
    "copy_files('jpg', './spring_vs_autumn/filtered', './spring_vs_autumn/autumn_2018_tiles')"
   ]
  },
  {
   "cell_type": "code",
   "execution_count": null,
   "metadata": {},
   "outputs": [],
   "source": [
    "# This thing takes files from one directory and shuffles the name around to put the period at the end.\n",
    "# Useful for annotation in DashDoodler.\n",
    "import copy\n",
    "\n",
    "working_dir = '/Users/michaelurson/Desktop/Doodler/spring_vs_autumn/testing_datasets/combined/'\n",
    "new_names = []\n",
    "files = os.listdir(working_dir)\n",
    "for file in files:\n",
    "    source_name = file\n",
    "    components = file.split('_')\n",
    "    img_id = '_'.join(components[1:])\n",
    "    img_id = img_id.replace('.jpg','_'+components[0]+'.jpg')\n",
    "    new_names.append(img_id)\n",
    "    try:\n",
    "        os.rename(working_dir+source_name,working_dir+img_id)\n",
    "    except:\n",
    "        IsADirectoryError\n",
    "        pass\n",
    "new_names\n"
   ]
  },
  {
   "cell_type": "code",
   "execution_count": null,
   "metadata": {},
   "outputs": [],
   "source": [
    "# This thing copies the equivalent photos for a given season to another directory.\n",
    "import os\n",
    "import shutil\n",
    "\n",
    "output_dir = './spring_vs_autumn/testing_datasets/autumn_2018/'\n",
    "\n",
    "source_dir = './spring_vs_autumn/testing_datasets/spring_2018/'\n",
    "desired_dir = './spring_vs_autumn/autumn_2018_tiles/jpg/'\n",
    "\n",
    "src_list = os.listdir(source_dir)\n",
    "desired_list = os.listdir(desired_dir)\n",
    "\n",
    "src_date = src_list[0][0:8]\n",
    "desired_date = desired_list[0][0:8]\n",
    "\n",
    "src_wanted = []\n",
    "for file in src_list:\n",
    "    desired_name = '_'.join(file.split('_')[1:])\n",
    "    \n",
    "    desired_name=desired_date+'_'+desired_name\n",
    "    src_wanted.append(desired_name)\n",
    "    print(desired_name)\n",
    "\n",
    "for file in src_wanted:\n",
    "    try:\n",
    "        shutil.copy(desired_dir+file, output_dir+file)\n",
    "    except FileNotFoundError:\n",
    "        print('file not found')"
   ]
  },
  {
   "cell_type": "code",
   "execution_count": 1,
   "metadata": {},
   "outputs": [],
   "source": [
    "# Rename to original names\n",
    "import os\n",
    "\n",
    "source_dir = './spring_vs_autumn/sampled/autumn/'\n",
    "src_list = os.listdir(source_dir)\n",
    "for file in src_list:\n",
    "    # Split into components\n",
    "    components = file.split('_')\n",
    "    # Reshuffle name\n",
    "    new_name = components[-1][0:-4] + \"_\" + \"_\".join(components[0:3]) +\".jpg\"\n",
    "    os.rename(source_dir+file, source_dir+new_name)\n",
    "    \n"
   ]
  },
  {
   "cell_type": "code",
   "execution_count": null,
   "metadata": {},
   "outputs": [],
   "source": [
    "# Randomly sample 100 images that are not present in the 'done' directory.\n",
    "import random\n",
    "import shutil\n",
    "import os\n",
    "\n",
    "copy_to = './spring_vs_autumn/spring_2018_tiles/avail_to_sample/'\n",
    "source_dir = './spring_vs_autumn/spring_2018_tiles/jpg/'\n",
    "done_dir = './spring_vs_autumn/annotated/spring/usable/images/'\n",
    "\n",
    "done_samples = os.listdir(done_dir)\n",
    "jpgs = os.listdir(source_dir)\n",
    "\n",
    "# Only return samples that haven't been annotated\n",
    "remaining = list(set(jpgs).difference(set(done_samples)))\n",
    "\n",
    "num_samples = 50\n",
    "avail = []\n",
    "for i in range(0,num_samples + 1):\n",
    "    avail.append(jpgs.pop(random.randrange(len(jpgs))))\n",
    "    #tino_samples.append(jpgs.pop(random.randrange(len(jpgs))))\n",
    "\n",
    "for file in avail:\n",
    "    shutil.copyfile(source_dir+file, copy_to+file)\n",
    "\n",
    "#for file in tino_samples:\n",
    "#    shutil.copyfile(source_dir+file, tino_dir+file)"
   ]
  }
 ],
 "metadata": {
  "kernelspec": {
   "display_name": "Python 3",
   "language": "python",
   "name": "python3"
  },
  "language_info": {
   "codemirror_mode": {
    "name": "ipython",
    "version": 3
   },
   "file_extension": ".py",
   "mimetype": "text/x-python",
   "name": "python",
   "nbconvert_exporter": "python",
   "pygments_lexer": "ipython3",
   "version": "3.10.10"
  },
  "orig_nbformat": 4
 },
 "nbformat": 4,
 "nbformat_minor": 2
}
