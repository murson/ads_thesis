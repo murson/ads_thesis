{
 "cells": [
  {
   "attachments": {},
   "cell_type": "markdown",
   "metadata": {},
   "source": [
    "First part - add geolocation information to PNG files:"
   ]
  },
  {
   "cell_type": "code",
   "execution_count": 7,
   "metadata": {},
   "outputs": [],
   "source": [
    "import rasterio\n",
    "import os\n",
    "import shutil\n",
    "\n",
    "from rasterio.merge import merge\n",
    "from rasterio.plot import show\n"
   ]
  },
  {
   "cell_type": "code",
   "execution_count": 5,
   "metadata": {},
   "outputs": [
    {
     "name": "stderr",
     "output_type": "stream",
     "text": [
      "/Users/michaelurson/miniconda3/envs/ssml/lib/python3.10/site-packages/rasterio/__init__.py:306: NotGeoreferencedWarning: Dataset has no geotransform, gcps, or rpcs. The identity matrix will be returned.\n",
      "  dataset = get_writer_for_path(path, driver=driver)(\n"
     ]
    }
   ],
   "source": [
    "# This part of the script stitches pngs located in aut_dir, based on georeferenced images in tif_dir.\n",
    "# Matching is done based on file names.\n",
    "png_dir = './spring_2018/'\n",
    "tif_dir = '../to_predict/combined_tifs/'\n",
    "\n",
    "png_dirs = [png_dir+x+'/' for x in os.listdir(png_dir) if '.DS_Store' not in x]\n",
    "\n",
    "for png_dir in png_dirs:\n",
    "    png_list = [x for x in os.listdir(png_dir) if x[-3:] == 'png']\n",
    "    tif_list = ['_'.join(x.split('_')[0:4])+'.tif' for x in png_list if x[-3:] == 'png']\n",
    "\n",
    "    # Add geolocation data to PNGs from TIFs\n",
    "    for i,tif in enumerate(tif_list):\n",
    "        src = rasterio.open(tif_dir+tif)\n",
    "\n",
    "        input_crs = src.crs\n",
    "        input_transform = src.transform\n",
    "\n",
    "        with rasterio.open(png_dir+png_list[i], 'r+') as rds:\n",
    "            rds.crs = input_crs\n",
    "            rds.transform = input_transform\n",
    "    \n",
    "    # Create the mosaic\n",
    "    src_files_to_mosaic = []\n",
    "\n",
    "    for file in png_list:\n",
    "        source = rasterio.open(png_dir+file)\n",
    "        src_files_to_mosaic.append(source)\n",
    "\n",
    "    mosaic, out_trans = merge(src_files_to_mosaic)\n",
    "        # Save to file\n",
    "\n",
    "    with rasterio.open(\n",
    "            png_dir[:-1]+\".png\",\n",
    "            mode=\"w\",\n",
    "            driver=\"PNG\",\n",
    "            dtype=mosaic.dtype,\n",
    "            height=mosaic.shape[1],\n",
    "            width=mosaic.shape[2],\n",
    "            count=3,\n",
    "            crs=src.crs,\n",
    "            transform=out_trans\n",
    "    ) as new_dataset:\n",
    "            new_dataset.write(mosaic, [1,2,3])\n",
    "        "
   ]
  },
  {
   "attachments": {},
   "cell_type": "markdown",
   "metadata": {},
   "source": [
    "This part is to visualize testing vs training dataset:"
   ]
  },
  {
   "cell_type": "code",
   "execution_count": 3,
   "metadata": {},
   "outputs": [],
   "source": [
    "# Split files into folders for easier use:\n",
    "aut_final = './spring_2018/'\n",
    "seasons = list(set([x.split('_')[0] for x in os.listdir(aut_final)]))\n",
    "pngs = [x for x in os.listdir(aut_final) if x[-3:] == 'png']\n",
    "\n",
    "for season in seasons:\n",
    "    os.mkdir(aut_final+season)\n",
    "    for png in pngs:\n",
    "        if season in png:\n",
    "            shutil.move(aut_final+png,aut_final+season+'/'+png)\n"
   ]
  }
 ],
 "metadata": {
  "kernelspec": {
   "display_name": "ssml",
   "language": "python",
   "name": "python3"
  },
  "language_info": {
   "codemirror_mode": {
    "name": "ipython",
    "version": 3
   },
   "file_extension": ".py",
   "mimetype": "text/x-python",
   "name": "python",
   "nbconvert_exporter": "python",
   "pygments_lexer": "ipython3",
   "version": "3.10.10"
  },
  "orig_nbformat": 4
 },
 "nbformat": 4,
 "nbformat_minor": 2
}
