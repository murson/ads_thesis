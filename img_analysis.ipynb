{
 "cells": [
  {
   "cell_type": "code",
   "execution_count": 2,
   "metadata": {},
   "outputs": [],
   "source": [
    "import os\n",
    "import shutil\n",
    "from PIL import Image\n",
    "import pandas as pd\n",
    "import numpy as np\n",
    "import shutil"
   ]
  },
  {
   "cell_type": "code",
   "execution_count": 2,
   "metadata": {},
   "outputs": [],
   "source": [
    "# Check for black pixels in an image:\n",
    "def check_black(image):\n",
    "    contains_black = False\n",
    "    black = (0,0,0)\n",
    "    colours = image.getcolors()\n",
    "    for colour in colours:\n",
    "        if colour[1] == black:\n",
    "            contains_black = True\n",
    "    return contains_black"
   ]
  },
  {
   "cell_type": "code",
   "execution_count": 216,
   "metadata": {},
   "outputs": [
    {
     "data": {
      "text/plain": [
       "False    138\n",
       "True      66\n",
       "Name: count, dtype: int64"
      ]
     },
     "execution_count": 216,
     "metadata": {},
     "output_type": "execute_result"
    }
   ],
   "source": [
    "# Extract only PNGs\n",
    "labels = './annotated/results/'\n",
    "pngs = []\n",
    "npz = []\n",
    "\n",
    "for file in os.listdir(labels):\n",
    "    if file[-3:] == 'png':\n",
    "        pngs.append(file) # Add directory to name\n",
    "    \n",
    "    elif file[-3:] == 'npz':\n",
    "        npz.append(file) # Add directory to name\n",
    "\n",
    "# Go through all labels to identify black pixels:\n",
    "contains_black = []\n",
    "for png in pngs:\n",
    "    img = Image.open(labels+png)\n",
    "    contains_black.append(check_black(img))\n",
    "\n",
    "# Display findings:\n",
    "pd.Series(contains_black).value_counts()"
   ]
  },
  {
   "cell_type": "code",
   "execution_count": 3,
   "metadata": {},
   "outputs": [],
   "source": [
    "# \n",
    "def get_identity(png_filename):\n",
    "    stripped_name = png_filename.replace('./annotated/results/','').split('_')[0:4]\n",
    "    identity = '_'.join(stripped_name)\n",
    "    return identity"
   ]
  },
  {
   "cell_type": "code",
   "execution_count": 218,
   "metadata": {},
   "outputs": [
    {
     "data": {
      "text/plain": [
       "[(244058, (220, 57, 18)),\n",
       " (83, (153, 0, 153)),\n",
       " (4194, (51, 102, 204)),\n",
       " (1665, (16, 150, 24))]"
      ]
     },
     "execution_count": 218,
     "metadata": {},
     "output_type": "execute_result"
    }
   ],
   "source": [
    "# This was used to identify which colour is purple (by RGB value):\n",
    "Image.open(labels+pngs[1]).getcolors()"
   ]
  },
  {
   "cell_type": "code",
   "execution_count": 58,
   "metadata": {},
   "outputs": [],
   "source": [
    "# Shade of purple identified for 'other' class\n",
    "other_label = (153, 0, 153)"
   ]
  },
  {
   "cell_type": "code",
   "execution_count": 4,
   "metadata": {},
   "outputs": [],
   "source": [
    "#test_img = Image.open(pngs[0])\n",
    "def replace_black(img):\n",
    "    data = np.array(img)   # \"data\" is a height x width x 4 numpy array\n",
    "    red, green, blue = data.T # Temporarily unpack the bands for readability\n",
    "\n",
    "    black_areas = (red == 0) & (blue == 0) & (green == 0)\n",
    "    data[..., :][black_areas.T] = other_label # Transpose back needed\n",
    "\n",
    "    cleaned_img = Image.fromarray(data)\n",
    "    return cleaned_img"
   ]
  },
  {
   "cell_type": "code",
   "execution_count": 5,
   "metadata": {},
   "outputs": [],
   "source": [
    "def get_identifier(png_name):\n",
    "        stripped_name = png_name.split('_')[0:4]\n",
    "        identity = '_'.join(stripped_name)\n",
    "        return identity"
   ]
  },
  {
   "cell_type": "code",
   "execution_count": 6,
   "metadata": {},
   "outputs": [],
   "source": [
    "def find_npz(file_id,npz_list):\n",
    "    for npz in npz_list:\n",
    "        if file_id in npz:\n",
    "            return npz"
   ]
  },
  {
   "cell_type": "code",
   "execution_count": 7,
   "metadata": {},
   "outputs": [],
   "source": [
    "def count_black(image_directory):\n",
    "    labels = './annotated/results/'\n",
    "    image = Image.open(labels+image_directory)\n",
    "    black = (0,0,0)\n",
    "    colours = image.getcolors()\n",
    "    for colour in colours:\n",
    "        if colour[1] == black:\n",
    "            return colour[0]"
   ]
  },
  {
   "cell_type": "code",
   "execution_count": 8,
   "metadata": {},
   "outputs": [],
   "source": [
    "# Get number of labels applied to image based on npz file.\n",
    "def get_unique_labels(npz_file_directory):\n",
    "    labels = './annotated/results/'\n",
    "    npz = np.load(labels+npz_file_directory)\n",
    "    return npz['label'].shape[2]\n",
    "\n",
    "# Get number of different pixels of annotation png image.\n",
    "def get_unique_pixels(png_directory):\n",
    "    labels = './annotated/results/'\n",
    "    png = Image.open(labels+png_directory)\n",
    "    return len(png.getcolors())"
   ]
  },
  {
   "attachments": {},
   "cell_type": "markdown",
   "metadata": {},
   "source": [
    "Create dataframe of all images for summary purposes."
   ]
  },
  {
   "cell_type": "code",
   "execution_count": 661,
   "metadata": {},
   "outputs": [],
   "source": [
    "# Puit npz files into dataframe.\n",
    "npz_frame = pd.DataFrame()\n",
    "npz_frame['npz_filename'] = pd.Series(npz)\n",
    "npz_frame['file_id'] = npz_frame['npz_filename'].apply(get_identifier)"
   ]
  },
  {
   "cell_type": "code",
   "execution_count": 545,
   "metadata": {},
   "outputs": [],
   "source": [
    "all_results = pd.DataFrame()\n",
    "all_results['png_filename'] = pngs\n",
    "all_results['file_id'] = all_results['png_filename'].apply(get_identifier)\n",
    "all_results['season'] = all_results['file_id'].apply(lambda x: 'autumn' if x[-8:] == '20180917' else 'spring') #Classify into spring/autumn pictures.\n",
    "all_results['black_pixels'] = all_results['png_filename'].apply(count_black).fillna(0)\n",
    "all_results['black_proportion'] = (all_results['black_pixels']/(500*500)).round(4).fillna(0)\n",
    "all_results = all_results.merge(npz_frame,how='inner')\n",
    "all_results['labels_npz'] = all_results['npz_filename'].apply(get_unique_labels)\n",
    "all_results['labels_png'] = all_results['png_filename'].apply(get_unique_pixels)\n",
    "all_results['labels_diff'] = all_results['labels_npz'] - all_results['labels_png']"
   ]
  },
  {
   "cell_type": "code",
   "execution_count": 367,
   "metadata": {},
   "outputs": [
    {
     "data": {
      "text/plain": [
       "<Axes: >"
      ]
     },
     "execution_count": 367,
     "metadata": {},
     "output_type": "execute_result"
    },
    {
     "data": {
      "image/png": "[encoded data removed]",
      "text/plain": [
       "<Figure size 640x480 with 1 Axes>"
      ]
     },
     "metadata": {},
     "output_type": "display_data"
    }
   ],
   "source": [
    "# Proportion of black pixels per image:\n",
    "results['black_proportion'].hist()"
   ]
  },
  {
   "cell_type": "code",
   "execution_count": 377,
   "metadata": {},
   "outputs": [
    {
     "data": {
      "text/html": [
       "<div>\n",
       "<style scoped>\n",
       "    .dataframe tbody tr th:only-of-type {\n",
       "        vertical-align: middle;\n",
       "    }\n",
       "\n",
       "    .dataframe tbody tr th {\n",
       "        vertical-align: top;\n",
       "    }\n",
       "\n",
       "    .dataframe thead th {\n",
       "        text-align: right;\n",
       "    }\n",
       "</style>\n",
       "<table border=\"1\" class=\"dataframe\">\n",
       "  <thead>\n",
       "    <tr style=\"text-align: right;\">\n",
       "      <th></th>\n",
       "      <th>png_filename</th>\n",
       "      <th>file_id</th>\n",
       "      <th>npz_filename</th>\n",
       "      <th>season</th>\n",
       "      <th>black_count</th>\n",
       "      <th>black_proportion</th>\n",
       "    </tr>\n",
       "  </thead>\n",
       "  <tbody>\n",
       "    <tr>\n",
       "      <th>36</th>\n",
       "      <td>005_05_18_20180917_label2023-05-25-08-49_Micha...</td>\n",
       "      <td>005_05_18_20180917</td>\n",
       "      <td>005_05_18_20180917_Michael.npz</td>\n",
       "      <td>autumn</td>\n",
       "      <td>3503</td>\n",
       "      <td>0.014</td>\n",
       "    </tr>\n",
       "  </tbody>\n",
       "</table>\n",
       "</div>"
      ],
      "text/plain": [
       "                                         png_filename             file_id   \n",
       "36  005_05_18_20180917_label2023-05-25-08-49_Micha...  005_05_18_20180917  \\\n",
       "\n",
       "                      npz_filename  season  black_count  black_proportion  \n",
       "36  005_05_18_20180917_Michael.npz  autumn         3503             0.014  "
      ]
     },
     "execution_count": 377,
     "metadata": {},
     "output_type": "execute_result"
    }
   ],
   "source": [
    "# Finding the worst image:\n",
    "results[results['black_proportion'] == results['black_proportion'].max()]"
   ]
  },
  {
   "cell_type": "code",
   "execution_count": 13,
   "metadata": {},
   "outputs": [],
   "source": [
    "# Reclassification of pixels to each class based on PNG file\n",
    "unknown_px = [0,0,0]\n",
    "grey_px = [220, 57, 18]\n",
    "other_px = [153, 0, 153]\n",
    "sand_px = [51, 102, 204]\n",
    "white_px = [255, 153, 0]\n",
    "shrubs_px = [16, 150, 24]\n",
    "\n",
    "unknown_lab = [0,0,0,0,1]\n",
    "grey_lab = [0,1,0,0,0]\n",
    "other_lab = unknown_lab\n",
    "sand_lab = [1,0,0,0,0]\n",
    "white_lab = [0,0,1,0,0]\n",
    "shrubs_lab = [0,0,0,1,0]\n",
    "\n",
    "def reclassify_pixels(pixel):\n",
    "    #unknown = np.array([0,0,0])\n",
    "    grey_dunes = np.array([220, 57, 18])\n",
    "    #other = np.array([153, 0, 153])\n",
    "    sand = np.array([51, 102, 204])\n",
    "    white_dunes = np.array([255, 153, 0])\n",
    "    shrubs = np.array([16, 150, 24])\n",
    "\n",
    "    if np.array_equiv(pixel, shrubs):\n",
    "        return np.array([0,0,0,1,0])\n",
    "    if np.array_equiv(pixel, sand):\n",
    "        return np.array([1,0,0,0,0])\n",
    "    if np.array_equiv(pixel, grey_dunes):\n",
    "        return np.array([0,1,0,0,0])\n",
    "    if np.array_equiv(pixel,white_dunes):\n",
    "        return np.array([0,0,1,0,0])\n",
    "    else:\n",
    "        return np.array([0,0,0,0,1])"
   ]
  },
  {
   "cell_type": "code",
   "execution_count": 9,
   "metadata": {},
   "outputs": [],
   "source": [
    "# Returns a label for a given png file:\n",
    "def classify(png_img):\n",
    "    reshaped_pixels = np.asanyarray(png_img).reshape(500**2,3)\n",
    "    label = []\n",
    "    for pixel in reshaped_pixels:\n",
    "        label.append(reclassify_pixels(pixel))\n",
    "    label = np.reshape(np.array(label), [500,500,5])# Return to original shape\n",
    "    return label"
   ]
  },
  {
   "cell_type": "code",
   "execution_count": 10,
   "metadata": {},
   "outputs": [],
   "source": [
    "# Takes npz file as input and replaces label array with new one, then saves to filename given.\n",
    "def adjust_npz_file(npz_file,label,filename):\n",
    "    image = npz_file['image']\n",
    "    orig_image = npz_file['orig_image']\n",
    "    color_doodles = npz_file['color_doodles']\n",
    "    doodles = npz_file['doodles']\n",
    "    settings = npz_file['settings']\n",
    "    classes = npz_file['classes']\n",
    "\n",
    "    np.savez_compressed(filename,image = image,\n",
    "                                  orig_image = orig_image,\n",
    "                                  label = label,\n",
    "                                  color_doodles = color_doodles,\n",
    "                                  doodles = doodles,\n",
    "                                  settings = settings,\n",
    "                                  classes = classes)"
   ]
  },
  {
   "cell_type": "code",
   "execution_count": 11,
   "metadata": {},
   "outputs": [],
   "source": [
    "def fix_npz(npz_file_directory):\n",
    "    old_n = np.load(npz_file_directory)\n",
    "    reshaped_label = old_n['label'].reshape(500**2,5)\n",
    "\n",
    "    # Get the maximum array length:\n",
    "    length_array = 0\n",
    "    for label in reshaped_label:\n",
    "        if np.max(np.nonzero(label)) > length_array:\n",
    "            length_array = np.max(np.nonzero(label))\n",
    "\n",
    "    fixed_n = []\n",
    "    for item in reshaped_label:\n",
    "        fixed_n.append(item[0:length_array+1])\n",
    "    fixed_n = np.array(fixed_n)\n",
    "    return fixed_n.reshape(500,500,fixed_n.shape[1])"
   ]
  },
  {
   "cell_type": "code",
   "execution_count": 560,
   "metadata": {},
   "outputs": [],
   "source": [
    "# Check equivalence for selected image (testing):\n",
    "test_img = Image.open(labels+all_results['png_filename'][52])\n",
    "test_npx = np.load(labels + all_results['npz_filename'][52])\n",
    "reshaped_pixels = np.asanyarray(test_img).reshape(500**2,3)\n",
    "a = []\n",
    "for pixel in reshaped_pixels:\n",
    "    a.append(reclassify_pixels(pixel))\n",
    "a = np.reshape(np.array(a), [500,500,5])# Reshape and do things\n",
    "\n",
    "# Test equivalence between test image and actual labels:\n",
    "np.array_equiv(test_npx['label'],a)"
   ]
  },
  {
   "cell_type": "code",
   "execution_count": 659,
   "metadata": {},
   "outputs": [],
   "source": [
    "# Copy problematic images to new folder:\n",
    "# First png files:\n",
    "for file in all_results[all_results['season'] =='spring']['png_filename']:\n",
    "    shutil.copy(labels+file, './annotated/spring/'+file)\n",
    "\n",
    "# Then npz files:\n",
    "for file in all_results[all_results['season'] =='spring']['npz_filename']:\n",
    "    shutil.copy(labels+file, './annotated/spring/'+file)"
   ]
  },
  {
   "cell_type": "code",
   "execution_count": 660,
   "metadata": {},
   "outputs": [],
   "source": [
    "# Put usable images in separate directory:\n",
    "for file in all_results[all_results['season'] =='autumn']['png_filename']:\n",
    "    shutil.copy(labels+file, './annotated/autumn/'+file)\n",
    "\n",
    "# Then npz files:\n",
    "for file in all_results[all_results['season'] =='autumn']['npz_filename']:\n",
    "    shutil.copy(labels+file, './annotated/autumn/'+file)"
   ]
  },
  {
   "attachments": {},
   "cell_type": "markdown",
   "metadata": {},
   "source": [
    "Re-create the 'label' component of each autumn NPZ file"
   ]
  },
  {
   "cell_type": "code",
   "execution_count": 665,
   "metadata": {},
   "outputs": [],
   "source": [
    "# Create dictionary of problematic files:\n",
    "autumn = all_results[all_results['season']=='autumn'][['png_filename','npz_filename']]\n",
    "autumn = autumn.set_index('npz_filename')\n",
    "autumn_dict = autumn.to_dict()['png_filename']\n",
    "autumn_dir = './annotated/autumn/'\n",
    "\n",
    "for npz,png in autumn_dict.items():\n",
    "    png_image = Image.open(autumn_dir+png) \n",
    "    new_label = classify(png_image)\n",
    "    npz_file = np.load(autumn_dir+npz)\n",
    "    adjust_npz_file(npz_file,new_label,autumn_dir+npz)"
   ]
  },
  {
   "cell_type": "code",
   "execution_count": 15,
   "metadata": {},
   "outputs": [],
   "source": [
    "# Do the same for two lists of files:\n",
    "os.getcwd()\n",
    "\n",
    "fixed_dir = './annotated/combined_small/'\n",
    "fixed_aut_pngs = [x for x in os.listdir(fixed_dir) if x[-3:]=='png']\n",
    "fixed_aut_npz = [x for x in os.listdir(fixed_dir) if x[-3:]=='npz']\n",
    "\n",
    "# Fix ordering of npz:\n",
    "fixed_aut_npz.sort()\n",
    "fixed_aut_pngs.sort()\n",
    "\n",
    "# Check that they're the same\n",
    "id_png = [get_identity(x) for x in fixed_aut_pngs]\n",
    "id_npz = [get_identity(x) for x in fixed_aut_npz]\n",
    "id_png == id_npz\n",
    "\n",
    "\n",
    "for i,png in enumerate(fixed_aut_pngs):\n",
    "    png_image = Image.open(fixed_dir+png) \n",
    "    new_label = classify(png_image)\n",
    "    npz_file = np.load(fixed_dir+fixed_aut_npz[i])\n",
    "    adjust_npz_file(npz_file,new_label,fixed_dir+fixed_aut_npz[i])\n"
   ]
  },
  {
   "cell_type": "code",
   "execution_count": 810,
   "metadata": {},
   "outputs": [],
   "source": [
    "new_labs = './annotated/spring/usable/labels/original/'\n",
    "fixed_labs = './annotated/spring/usable/labels/fixed/'\n",
    "for label in os.listdir(new_labs):\n",
    "    if label[-3:] == 'jpg':\n",
    "        label_array = np.array(Image.open(new_labs + label))\n",
    "        label_array[label_array == 5] = 4\n",
    "        Image.fromarray(label_array).save(fp=fixed_labs+label,format='jpeg',quality = 100)"
   ]
  }
 ],
 "metadata": {
  "kernelspec": {
   "display_name": "ssml",
   "language": "python",
   "name": "python3"
  },
  "language_info": {
   "codemirror_mode": {
    "name": "ipython",
    "version": 3
   },
   "file_extension": ".py",
   "mimetype": "text/x-python",
   "name": "python",
   "nbconvert_exporter": "python",
   "pygments_lexer": "ipython3",
   "version": "3.10.10"
  },
  "orig_nbformat": 4
 },
 "nbformat": 4,
 "nbformat_minor": 2
}
