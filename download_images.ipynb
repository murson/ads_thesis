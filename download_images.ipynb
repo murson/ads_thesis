{
 "cells": [
  {
   "attachments": {},
   "cell_type": "markdown",
   "metadata": {},
   "source": [
    "Extract all links:"
   ]
  },
  {
   "cell_type": "code",
   "execution_count": 2,
   "metadata": {},
   "outputs": [],
   "source": [
    "import requests\n",
    "from bs4 import BeautifulSoup\n",
    "\n",
    "url = 'https://zenodo.org/record/7515352#.ZFFS_y8RppQ'\n",
    "reqs = requests.get(url)\n",
    "soup = BeautifulSoup(reqs.text, 'html.parser')\n",
    "\n",
    "urls = []\n",
    "for link in soup.find_all('a'):\n",
    "\turls.append(link.get('href'))"
   ]
  },
  {
   "cell_type": "code",
   "execution_count": 3,
   "metadata": {},
   "outputs": [],
   "source": [
    "# Extract all tifs\n",
    "tifs = []\n",
    "i = 0\n",
    "for url in urls:\n",
    "    try:\n",
    "        if 'tif' in url:\n",
    "            tifs.append(url)\n",
    "    except:\n",
    "        continue\n"
   ]
  },
  {
   "cell_type": "code",
   "execution_count": 4,
   "metadata": {},
   "outputs": [],
   "source": [
    "# Convert into links:\n",
    "links_5cm = []\n",
    "links_1m = []\n",
    "for tif in tifs:\n",
    "    if '_005.tif' in tif:\n",
    "        links_5cm.append(tif.replace('/record/','https://zenodo.org/record/'))\n",
    "    else:\n",
    "        links_1m.append(tif.replace('/record/','https://zenodo.org/record/'))\n",
    "# Crude way of removing duplicates\n",
    "links_5cm = list(set(links_5cm))\n",
    "links_1m = list(set(links_1m))"
   ]
  },
  {
   "cell_type": "code",
   "execution_count": 5,
   "metadata": {},
   "outputs": [],
   "source": [
    "def create_file_name(link):\n",
    "    start = link.find('NWNKern_') + len('NWNKern_')\n",
    "    end = link.find('.tif') + len('.tif')\n",
    "    return link[start:end]"
   ]
  },
  {
   "cell_type": "code",
   "execution_count": 6,
   "metadata": {},
   "outputs": [],
   "source": [
    "from osgeo import gdal\n",
    "\n",
    "def save_img(link):\n",
    "    print('opening image')\n",
    "    ds = gdal.Open(link)\n",
    "    print('image opened')\n",
    "    # Setting the bounds of the area of interest:\n",
    "    xmin, xmax, ymin, ymax = 98400, 98930, 493058, 493990\n",
    "    print('Translating...')\n",
    "    test = gdal.Translate(destName=create_file_name(link),\n",
    "                srcDS=ds,\n",
    "                options=gdal.TranslateOptions(projWin = [xmin, ymax, xmax, ymin]),\n",
    "                                                creationOptions = ['TFW=YES', 'COMPRESS=LZW'])\n",
    "    print('translated')\n",
    "    # This triggers writing the file (for some reason...)\n",
    "    test = None"
   ]
  },
  {
   "cell_type": "code",
   "execution_count": 7,
   "metadata": {},
   "outputs": [
    {
     "name": "stdout",
     "output_type": "stream",
     "text": [
      "opening image\n"
     ]
    }
   ],
   "source": [
    "for link in links_5cm[1:]:\n",
    "    save_img(link)"
   ]
  },
  {
   "cell_type": "code",
   "execution_count": 15,
   "metadata": {},
   "outputs": [],
   "source": [
    "for link in links_1m[0:1]:\n",
    "    save_img(link)"
   ]
  }
 ],
 "metadata": {
  "kernelspec": {
   "display_name": "Python 3",
   "language": "python",
   "name": "python3"
  },
  "language_info": {
   "codemirror_mode": {
    "name": "ipython",
    "version": 3
   },
   "file_extension": ".py",
   "mimetype": "text/x-python",
   "name": "python",
   "nbconvert_exporter": "python",
   "pygments_lexer": "ipython3",
   "version": "3.10.10"
  },
  "orig_nbformat": 4
 },
 "nbformat": 4,
 "nbformat_minor": 2
}
